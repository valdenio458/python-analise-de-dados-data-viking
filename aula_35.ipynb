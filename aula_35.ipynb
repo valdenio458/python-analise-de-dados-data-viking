{
  "nbformat": 4,
  "nbformat_minor": 0,
  "metadata": {
    "colab": {
      "provenance": [],
      "authorship_tag": "ABX9TyNxnlFlRhOrizpIga7N+kn7",
      "include_colab_link": true
    },
    "kernelspec": {
      "name": "python3",
      "display_name": "Python 3"
    },
    "language_info": {
      "name": "python"
    }
  },
  "cells": [
    {
      "cell_type": "markdown",
      "metadata": {
        "id": "view-in-github",
        "colab_type": "text"
      },
      "source": [
        "<a href=\"https://colab.research.google.com/github/valdenio458/python-analise-de-dados-data-viking/blob/main/aula_35.ipynb\" target=\"_parent\"><img src=\"https://colab.research.google.com/assets/colab-badge.svg\" alt=\"Open In Colab\"/></a>"
      ]
    },
    {
      "cell_type": "code",
      "execution_count": 10,
      "metadata": {
        "id": "fnMA4axhXGFy"
      },
      "outputs": [],
      "source": [
        "class Pessoa:\n",
        "\n",
        "  # Método Construtor\n",
        "  def __init__(self, nome, idade):\n",
        "    self.nome = nome\n",
        "    self.idade = idade\n",
        "\n",
        "  def boas_vindas(self):\n",
        "    print('Olá, seja bemvindo(a),', self.nome)\n",
        "\n",
        "  def recusado(self):\n",
        "    print('Seu acesso foi recusado!')\n",
        "\n",
        "  def maior_idade(self):\n",
        "    if self.idade >= 18:\n",
        "      print('Usuário é maior de idade!')\n",
        "      self.boas_vindas()\n",
        "    else:\n",
        "      print('Usuaŕio é menor de idade!')\n",
        "      self.recusado()\n",
        ""
      ]
    },
    {
      "cell_type": "code",
      "source": [
        "# Criando um objeto (instância da classe)\n",
        "maria = Pessoa('Maria', 19)"
      ],
      "metadata": {
        "id": "L4KNfsssYdNV"
      },
      "execution_count": 15,
      "outputs": []
    },
    {
      "cell_type": "code",
      "source": [
        "maria.maior_idade()"
      ],
      "metadata": {
        "colab": {
          "base_uri": "https://localhost:8080/"
        },
        "id": "cqBW7tA_Ylrf",
        "outputId": "608a74d3-76c0-4a85-fade-53845c1958d9"
      },
      "execution_count": 16,
      "outputs": [
        {
          "output_type": "stream",
          "name": "stdout",
          "text": [
            "Usuário é maior de idade!\n",
            "Olá, seja bemvindo(a), Maria\n"
          ]
        }
      ]
    }
  ]
}